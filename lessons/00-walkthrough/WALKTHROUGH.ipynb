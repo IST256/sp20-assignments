{
 "cells": [
  {
   "cell_type": "markdown",
   "metadata": {},
   "source": [
    "# IST256 Walkthrough\n",
    "\n",
    "Let's learn how to use Jupyter Notebooks in this course!\n",
    "\n",
    "**Reading Time: 10 minutes**\n",
    "\n",
    "## What is Jupyter Notebooks?\n",
    "\n",
    "Jupyter Notebooks is a web-based interactive programming Environment which mixes code and text. The basic unit of a notebook is the **cell.**\n",
    "\n",
    "Click in the cell below. You will see the cell is **highlighted in green**. Since this cell is selected, it should say **Code** in the toolbar (Underneath Navigate in the menu).\n",
    "\n",
    "Press the `>| Run` button to execute the code.\n"
   ]
  },
  {
   "cell_type": "code",
   "execution_count": null,
   "metadata": {},
   "outputs": [],
   "source": [
    "print(\"Hi There!\")\n",
    "print(\"This is a cell.\")"
   ]
  },
  {
   "cell_type": "markdown",
   "metadata": {},
   "source": [
    "You should see the program's output underneath the cell.\n",
    "\n",
    "Notice when the Cell runs it places a number in brackets for example`In [1]`. This in an indication that the cell was run. The number increments each time a cell is run in the notebook.\n",
    "\n",
    "### Let's run it again\n",
    "\n",
    "To **Edit** the cell you must click on it again to select it. \n",
    "\n",
    "**DO THIS:** Edit the cell above so that it says `print(\"Hi Mike!\")` instead of `print(\"Hi There!\")`. When you finish your edit, run the cell again.\n",
    "\n",
    "### These Cells are all connected within the notebook\n",
    "\n",
    "All of the cells in the same notebook share one Python environment. So what happens in one cell, if saved to a variable will be accessible in another cell. For example, the first cell below stores the value `\"Python\"` in memory under the name `x`. The next cell prints the value of `x`. \n",
    "\n",
    "Run both cells. Notice the second cell \"remembers\" the value from the first.\n"
   ]
  },
  {
   "cell_type": "code",
   "execution_count": null,
   "metadata": {},
   "outputs": [],
   "source": [
    "x = \"Python\""
   ]
  },
  {
   "cell_type": "code",
   "execution_count": null,
   "metadata": {},
   "outputs": [],
   "source": [
    "print(x)"
   ]
  },
  {
   "cell_type": "markdown",
   "metadata": {},
   "source": [
    "### Saving your work\n",
    "\n",
    "The notebook will save automatically, but if you would like to save immediately, use the menu: File -> Save and Checkpoint.\n",
    "\n",
    "### Deep Dive\n",
    "\n",
    "To learn more about Jupyter Notebooks, I suggest this video from ist256.tv \n",
    "\n",
    "https://www.youtube.com/watch?v=jZ952vChhuI&list=PLyRiRUsTyUXjwYRGM8vzusbc50zmUyNEG&index=5\n",
    "\n",
    "One caveat - you do not need to launch jupyter notebook as in the video. Jupyterhub does this for you!\n",
    "\n",
    "\n",
    "## How To Turn In Your Lab and Homework\n",
    "\n",
    "We will use UC Berkley's OK Python system to turn in your homework and labs. The process is simple.\n",
    "\n",
    "\n",
    "### One-Time Setup: Creating Your Ok Account\n",
    "\n",
    "First, sign up for the service using your Syracuse University Google account. To learn how to setup your SU Google acccount, visit https://ols.syr.edu/google-account-for-syracuse-university/\n",
    "\n",
    "1. Once you have your SU Google account, visit https://okpy.org and click the **Student Login** button.\n",
    "2. Login with `netid@g.syr.edu` where `netid` is your SU NetID. Do not use your personal google account. If you are logged in with your personal account, select the **Use another account** option.\n",
    "\n",
    "### Submission Process for Every Homework and Lab\n",
    "\n",
    "The submission process is the same for every Homework and Lab:\n",
    "\n",
    "There will be Python code at the top of the notebook file. Runing it will generate a link and provide an access code to connect your notebook to the Ok Assignment. \n",
    "\n",
    "Try This now, by running this cell. To run the cell, click on it then click the `>| Run` button in the toolbar.\n",
    "\n",
    "**NOTE** Running this code will generate a link and provide an access code you can use to connect your notebook to the Ok Assignment.\n"
   ]
  },
  {
   "cell_type": "code",
   "execution_count": 1,
   "metadata": {},
   "outputs": [
    {
     "name": "stdout",
     "output_type": "stream",
     "text": [
      "=====================================================================\n",
      "Assignment: WALKTHROUGH\n",
      "OK, version v1.14.19\n",
      "=====================================================================\n",
      "\n",
      "Successfully logged in as mafudge@g.syr.edu\n"
     ]
    }
   ],
   "source": [
    "# run this code to login to https://okpy.org/ and setup the assignment for submission\n",
    "from ist256 import okclient\n",
    "ok = okclient.Lab()"
   ]
  },
  {
   "cell_type": "markdown",
   "metadata": {},
   "source": [
    "### Turning it in\n",
    "\n",
    "To turn in your assignment, simply run cell below. You can run it more than once and it will grade the last submission before the due date. "
   ]
  },
  {
   "cell_type": "code",
   "execution_count": 2,
   "metadata": {},
   "outputs": [
    {
     "data": {
      "application/javascript": [
       "IPython.notebook.save_checkpoint();"
      ],
      "text/plain": [
       "<IPython.core.display.Javascript object>"
      ]
     },
     "metadata": {},
     "output_type": "display_data"
    },
    {
     "data": {
      "application/javascript": [
       "IPython.notebook.save_notebook();"
      ],
      "text/plain": [
       "<IPython.core.display.Javascript object>"
      ]
     },
     "metadata": {},
     "output_type": "display_data"
    },
    {
     "name": "stdout",
     "output_type": "stream",
     "text": [
      "Saving notebook... Saved 'WALKTHROUGH.ipynb'.\n",
      "Submit... 100% complete\n",
      "Submission successful for user: mafudge@g.syr.edu\n",
      "URL: https://okpy.org/syr/ist256/sp20/walkthrough/submissions/k2xKjv\n",
      "\n"
     ]
    }
   ],
   "source": [
    "ok.submit()"
   ]
  },
  {
   "cell_type": "code",
   "execution_count": null,
   "metadata": {},
   "outputs": [],
   "source": []
  }
 ],
 "metadata": {
  "kernelspec": {
   "display_name": "Python 3",
   "language": "python",
   "name": "python3"
  },
  "language_info": {
   "codemirror_mode": {
    "name": "ipython",
    "version": 3
   },
   "file_extension": ".py",
   "mimetype": "text/x-python",
   "name": "python",
   "nbconvert_exporter": "python",
   "pygments_lexer": "ipython3",
   "version": "3.7.6"
  },
  "toc": {
   "base_numbering": 1,
   "nav_menu": {},
   "number_sections": false,
   "sideBar": false,
   "skip_h1_title": false,
   "title_cell": "Table of Contents",
   "title_sidebar": "Contents",
   "toc_cell": false,
   "toc_position": {},
   "toc_section_display": false,
   "toc_window_display": false
  }
 },
 "nbformat": 4,
 "nbformat_minor": 2
}
