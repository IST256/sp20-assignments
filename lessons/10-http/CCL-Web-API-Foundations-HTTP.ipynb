{
 "cells": [
  {
   "cell_type": "code",
   "execution_count": 1,
   "metadata": {},
   "outputs": [
    {
     "name": "stdout",
     "output_type": "stream",
     "text": [
      "=====================================================================\n",
      "Assignment: lesson 10 Lab - CCL-Web-API-Foundations-HTTP\n",
      "OK, version v1.14.19\n",
      "=====================================================================\n",
      "\n",
      "Successfully logged in as mafudge@g.syr.edu\n"
     ]
    }
   ],
   "source": [
    "# run this code to login to https://okpy.org/ and setup the assignment for submission\n",
    "from ist256 import okclient\n",
    "ok = okclient.Lab()"
   ]
  },
  {
   "cell_type": "markdown",
   "metadata": {},
   "source": [
    "# In-Class Coding Lab: Understanding The Foundations of Web APIs\n",
    "\n",
    "### Overview\n",
    "\n",
    "This lab covers the foundations of what is necessary to properly use consume HTTP web service API's with Python . Here's what we will cover.\n",
    "\n",
    "1. Understading requests and responses\n",
    "1. Proper error handling\n",
    "1. Parameter handling\n",
    "1. Refactoring as a function\n"
   ]
  },
  {
   "cell_type": "code",
   "execution_count": 1,
   "metadata": {},
   "outputs": [],
   "source": [
    "# Run this to make sure you have the pre-requisites!\n",
    "!pip install -q requests"
   ]
  },
  {
   "cell_type": "markdown",
   "metadata": {},
   "source": [
    "## Part 1: Understanding Requests and responses\n",
    "\n",
    "In this part we learn about the Python requests module. http://docs.python-requests.org/en/master/user/quickstart/ \n",
    "\n",
    "This module makes it easy to write code to send HTTP requests over the internet and handle the responses. It will be the cornerstone of our API consumption in this course. While there are other modules which accomplish the same thing, `requests` is the most straightforward and easiest to use.\n",
    "\n",
    "We'll begin by importing the modules we will need. We do this here so we won't need to include these lines in the other code we write in this lab."
   ]
  },
  {
   "cell_type": "code",
   "execution_count": 2,
   "metadata": {},
   "outputs": [],
   "source": [
    "# start by importing the modules we will need\n",
    "import requests\n",
    "import json "
   ]
  },
  {
   "cell_type": "markdown",
   "metadata": {},
   "source": [
    "### The request \n",
    "\n",
    "As you learned in class and your assigned readings, the HTTP protocol has **verbs** which consititue the type of request you will send to the remote resource, or **url**. Based on the url and request type, you will get a **response**.\n",
    "\n",
    "The following line of code makes a **get** request (that's the HTTP verb) to Google's Geocoding API service. This service attempts to convert the address (in this case `Syracuse University`) into a set of coordinates global coordinates (Latitude and Longitude), so that location can be plotted on a map.\n"
   ]
  },
  {
   "cell_type": "code",
   "execution_count": 3,
   "metadata": {},
   "outputs": [],
   "source": [
    "url = 'https://nominatim.openstreetmap.org/search?q=Hinds+Hall+Syracuse+University&format=json'\n",
    "response = requests.get(url)"
   ]
  },
  {
   "cell_type": "markdown",
   "metadata": {},
   "source": [
    "### The response \n",
    "\n",
    "The `get()` method returns a `Response` object variable. I called it `response` in this example but it could be called anything. \n",
    "\n",
    "The HTTP response consists of a *status code* and *body*. The status code lets you know if the request worked, while the body of the response contains the actual data. \n"
   ]
  },
  {
   "cell_type": "code",
   "execution_count": 4,
   "metadata": {},
   "outputs": [
    {
     "data": {
      "text/plain": [
       "True"
      ]
     },
     "execution_count": 4,
     "metadata": {},
     "output_type": "execute_result"
    }
   ],
   "source": [
    "response.ok # did the request work?"
   ]
  },
  {
   "cell_type": "code",
   "execution_count": 5,
   "metadata": {},
   "outputs": [
    {
     "data": {
      "text/plain": [
       "'[{\"place_id\":123115770,\"licence\":\"Data © OpenStreetMap contributors, ODbL 1.0. https://osm.org/copyright\",\"osm_type\":\"way\",\"osm_id\":156759804,\"boundingbox\":[\"43.0381177\",\"43.0384201\",\"-76.1337397\",\"-76.1329516\"],\"lat\":\"43.038215550000004\",\"lon\":\"-76.13334564172943\",\"display_name\":\"Hinds Hall, 110, Einhorn Family Walk, Syracuse, Onondaga County, New York, 13210-1053, United States of America\",\"class\":\"building\",\"type\":\"yes\",\"importance\":0.31100000000000005}]'"
      ]
     },
     "execution_count": 5,
     "metadata": {},
     "output_type": "execute_result"
    }
   ],
   "source": [
    "response.text  # what's in the body of the response, as a raw string"
   ]
  },
  {
   "cell_type": "markdown",
   "metadata": {},
   "source": [
    "### Converting responses into Python object variables \n",
    "\n",
    "In the case of **web site url's** the response body is **HTML**. This should be rendered in a web browser. But we're dealing with Web Service API's so...\n",
    "\n",
    "In the case of **web API url's** the response body could be in a variety of formats from **plain text**, to **XML** or **JSON**. In this course we will only focus on JSON format because as we've seen these translate easily into Python object variables.\n",
    "\n",
    "Let's convert the response to a Python object variable. I this case it will be a Python dictionary"
   ]
  },
  {
   "cell_type": "code",
   "execution_count": 6,
   "metadata": {},
   "outputs": [
    {
     "data": {
      "text/plain": [
       "[{'place_id': 123115770,\n",
       "  'licence': 'Data © OpenStreetMap contributors, ODbL 1.0. https://osm.org/copyright',\n",
       "  'osm_type': 'way',\n",
       "  'osm_id': 156759804,\n",
       "  'boundingbox': ['43.0381177', '43.0384201', '-76.1337397', '-76.1329516'],\n",
       "  'lat': '43.038215550000004',\n",
       "  'lon': '-76.13334564172943',\n",
       "  'display_name': 'Hinds Hall, 110, Einhorn Family Walk, Syracuse, Onondaga County, New York, 13210-1053, United States of America',\n",
       "  'class': 'building',\n",
       "  'type': 'yes',\n",
       "  'importance': 0.31100000000000005}]"
      ]
     },
     "execution_count": 6,
     "metadata": {},
     "output_type": "execute_result"
    }
   ],
   "source": [
    "geodata = response.json()  # try to decode the response from JSON format\n",
    "geodata                    # this is now a Python object variable"
   ]
  },
  {
   "cell_type": "markdown",
   "metadata": {},
   "source": [
    "With our Python object, we can now walk the list of dictionary to retrieve the latitude and longitude\n"
   ]
  },
  {
   "cell_type": "code",
   "execution_count": 7,
   "metadata": {},
   "outputs": [
    {
     "name": "stdout",
     "output_type": "stream",
     "text": [
      "43.038215550000004 -76.13334564172943\n"
     ]
    }
   ],
   "source": [
    "lat = geodata[0]['lat']\n",
    "lon =geodata[0]['lon']\n",
    "print(lat, lon)"
   ]
  },
  {
   "cell_type": "markdown",
   "metadata": {},
   "source": [
    "In the code above we \"walked\" the Python list of dictionary to get to the location\n",
    "\n",
    "- `geodata` is a list\n",
    "- `geodata[0]` is the first item in that list, a dictionary\n",
    "- `geodata[0]['lat']` is a dictionary key which represents the latitude \n",
    "- `geodata[0]['lon']` is a dictionary key which represents the longitude\n",
    "\n",
    "It should be noted that this process will vary for each API you call, so its important to get accustomed to performing this task. You'll be doing it quite often. \n",
    "\n",
    "One final thing to address. What is the type of `lat` and `lon`?"
   ]
  },
  {
   "cell_type": "code",
   "execution_count": 8,
   "metadata": {},
   "outputs": [
    {
     "data": {
      "text/plain": [
       "(str, str)"
      ]
     },
     "execution_count": 8,
     "metadata": {},
     "output_type": "execute_result"
    }
   ],
   "source": [
    "type(lat), type(lon)"
   ]
  },
  {
   "cell_type": "markdown",
   "metadata": {},
   "source": [
    "Bummer they are strings. we want them to be floats so we will need to parse the strings with the `float()` function:"
   ]
  },
  {
   "cell_type": "code",
   "execution_count": 9,
   "metadata": {},
   "outputs": [
    {
     "name": "stdout",
     "output_type": "stream",
     "text": [
      "Latitude: 43.038216, Longitude: -76.133346\n"
     ]
    }
   ],
   "source": [
    "lat = float(geodata[0]['lat'])\n",
    "lon = float(geodata[0]['lon'])\n",
    "print(\"Latitude: %f, Longitude: %f\" % (lat, lon))"
   ]
  },
  {
   "cell_type": "markdown",
   "metadata": {},
   "source": [
    "### Now You Try It!\n",
    "\n",
    "Walk the `geodata` object variable and reteieve the value under the key `display_name` and the key  `bounding_box`"
   ]
  },
  {
   "cell_type": "code",
   "execution_count": 14,
   "metadata": {},
   "outputs": [
    {
     "data": {
      "text/plain": [
       "('Hinds Hall, 110, Einhorn Family Walk, Syracuse, Onondaga County, New York, 13210-1053, United States of America',\n",
       " ['43.0381177', '43.0384201', '-76.1337397', '-76.1329516'])"
      ]
     },
     "execution_count": 14,
     "metadata": {},
     "output_type": "execute_result"
    }
   ],
   "source": [
    "# todo:\n",
    "# retrieve the place_id put in a variable\n",
    "# retrieve the formatted_address put it in a variable\n",
    "# print both of them out\n",
    "geodata[0]['display_name'], geodata[0]['boundingbox']\n"
   ]
  },
  {
   "cell_type": "markdown",
   "metadata": {},
   "source": [
    "## Part 2: Parameter Handling\n",
    "\n",
    "In the example above we hard-coded \"Hinds Hall Syracuse University\" into the request:\n",
    "```\n",
    "url = 'https://nominatim.openstreetmap.org/search?q=Hinds+Hall+Syracuse+University&format=json'\n",
    "``` \n",
    "A better way to write this code is to allow for the input of any location and supply that to the service. To make this work we need to send parameters into the request as a dictionary. This way we can geolocate any address!\n",
    "\n",
    "You'll notice that on the url, we are passing **key-value pairs** the key is `q` and the value is `Hinds+Hall+Syracuse+University`. The other key is `format` and the value is `json`. Hey, Python dictionaries are also key-value pairs so:"
   ]
  },
  {
   "cell_type": "code",
   "execution_count": 15,
   "metadata": {},
   "outputs": [
    {
     "name": "stdout",
     "output_type": "stream",
     "text": [
      "Search for: Hinds Hall Syracuse University\n",
      "Coordinates: {'lat': 43.038215550000004, 'lng': -76.13334564172943}\n",
      "Hinds Hall Syracuse University is located at (43.038216,-76.133346)\n"
     ]
    }
   ],
   "source": [
    "url = 'https://nominatim.openstreetmap.org/search'  # base URL without paramters after the \"?\"\n",
    "search = 'Hinds Hall Syracuse University'\n",
    "options = { 'q' : search, 'format' : 'json'}\n",
    "response = requests.get(url, params = options)            \n",
    "geodata = response.json()\n",
    "coords = { 'lat' : float(geodata[0]['lat']), 'lng' : float(geodata[0]['lon']) }\n",
    "print(\"Search for:\", search)\n",
    "print(\"Coordinates:\", coords)\n",
    "print(\"%s is located at (%f,%f)\" %(search, coords['lat'], coords['lng']))"
   ]
  },
  {
   "cell_type": "markdown",
   "metadata": {},
   "source": [
    "### Looking up any address\n",
    "\n",
    "RECALL: For `requests.get(url, params = options)` the part that says `params = options` is called a **named argument**, which is Python's way of specifying an optional function argument.\n",
    "\n",
    "With our parameter now outside the url, we can easily re-write this code to work for any location! Go ahead and execute the code and input `Queens, NY`. This will retrieve the coordinates `(40.728224,-73.794852)`"
   ]
  },
  {
   "cell_type": "code",
   "execution_count": 16,
   "metadata": {},
   "outputs": [
    {
     "name": "stdout",
     "output_type": "stream",
     "text": [
      "Enter a loacation to Geocode: Syracuse, NY\n",
      "Search for: Syracuse, NY\n",
      "Coordinates: {'lat': 43.0481221, 'lng': -76.1474244}\n",
      "Syracuse, NY is located at (43.048122,-76.147424)\n"
     ]
    }
   ],
   "source": [
    "url = 'https://nominatim.openstreetmap.org/search'  # base URL without paramters after the \"?\"\n",
    "search = input(\"Enter a loacation to Geocode: \")\n",
    "options = { 'q' : search, 'format' : 'json'}\n",
    "response = requests.get(url, params = options)            \n",
    "geodata = response.json()\n",
    "coords = { 'lat' : float(geodata[0]['lat']), 'lng' : float(geodata[0]['lon']) }\n",
    "print(\"Search for:\", search)\n",
    "print(\"Coordinates:\", coords)\n",
    "print(\"%s is located at (%f,%f)\" %(search, coords['lat'], coords['lng']))"
   ]
  },
  {
   "cell_type": "markdown",
   "metadata": {},
   "source": [
    "### So useful, it should be a function!\n",
    "\n",
    "One thing you'll come to realize quickly is that your API calls should be wrapped in functions. This promotes **readability** and **code re-use**. For example:"
   ]
  },
  {
   "cell_type": "code",
   "execution_count": 17,
   "metadata": {},
   "outputs": [
    {
     "name": "stdout",
     "output_type": "stream",
     "text": [
      "Enter a location: Miami, FL\n",
      "Miami, FL is located at (25.774266,-80.193659)\n"
     ]
    }
   ],
   "source": [
    "def get_coordinates(search):\n",
    "    url = 'https://nominatim.openstreetmap.org/search'  # base URL without paramters after the \"?\"\n",
    "    options = { 'q' : search, 'format' : 'json'}\n",
    "    response = requests.get(url, params = options)            \n",
    "    geodata = response.json()\n",
    "    coords = { 'lat' : float(geodata[0]['lat']), 'lng' : float(geodata[0]['lon']) }\n",
    "    return coords\n",
    "\n",
    "# main program here:\n",
    "location = input(\"Enter a location: \")\n",
    "coords = get_coordinates(location)\n",
    "print(\"%s is located at (%f,%f)\" %(location, coords['lat'], coords['lng']))\n"
   ]
  },
  {
   "cell_type": "markdown",
   "metadata": {},
   "source": [
    "### Other request methods\n",
    "\n",
    "Not every API we call uses the `get()` method. Some use `post()` because the amount of data you provide it too large to place on the url. \n",
    "\n",
    "An example of this is the **Text-Processing.com** sentiment analysis service. http://text-processing.com/docs/sentiment.html This service will detect the sentiment or mood of text. You give the service some text, and it tells you whether that text is positive, negative or neutral. "
   ]
  },
  {
   "cell_type": "code",
   "execution_count": 18,
   "metadata": {},
   "outputs": [
    {
     "data": {
      "text/plain": [
       "{'probability': {'neg': 0.520097595188211,\n",
       "  'neutral': 0.3886824782142297,\n",
       "  'pos': 0.479902404811789},\n",
       " 'label': 'neg'}"
      ]
     },
     "execution_count": 18,
     "metadata": {},
     "output_type": "execute_result"
    }
   ],
   "source": [
    "# 'you suck' == 'negative'\n",
    "url = 'http://text-processing.com/api/sentiment/'\n",
    "options = { 'text' : 'you suck'}\n",
    "response = requests.post(url, data = options)\n",
    "sentiment = response.json()\n",
    "sentiment"
   ]
  },
  {
   "cell_type": "code",
   "execution_count": 19,
   "metadata": {},
   "outputs": [
    {
     "data": {
      "text/plain": [
       "{'probability': {'neg': 0.3866732207796809,\n",
       "  'neutral': 0.18366003088446245,\n",
       "  'pos': 0.6133267792203191},\n",
       " 'label': 'pos'}"
      ]
     },
     "execution_count": 19,
     "metadata": {},
     "output_type": "execute_result"
    }
   ],
   "source": [
    "# 'I love cheese' == 'positive'\n",
    "url = 'http://text-processing.com/api/sentiment/'\n",
    "options = { 'text' : 'I love cheese'}\n",
    "response = requests.post(url, data = options)\n",
    "sentiment = response.json()\n",
    "sentiment"
   ]
  },
  {
   "cell_type": "markdown",
   "metadata": {},
   "source": [
    "In the examples provided we used the `post()` method instead of the `get()` method. the `post()` method has a named argument `data` which takes a dictionary of data. The key required by **text-processing.com** is `text` which hold the text you would like to process for sentiment.\n",
    "\n",
    "We use a post in the event the text we wish to process is very long. Case in point:"
   ]
  },
  {
   "cell_type": "code",
   "execution_count": 20,
   "metadata": {},
   "outputs": [
    {
     "data": {
      "text/plain": [
       "{'probability': {'neg': 0.8406241500282121,\n",
       "  'neutral': 0.298451882823427,\n",
       "  'pos': 0.1593758499717879},\n",
       " 'label': 'neg'}"
      ]
     },
     "execution_count": 20,
     "metadata": {},
     "output_type": "execute_result"
    }
   ],
   "source": [
    "tweet = \"Arnold Schwarzenegger isn't voluntarily leaving the Apprentice, he was fired by his bad (pathetic) ratings, not by me. Sad end to a great show\"\n",
    "url = 'http://text-processing.com/api/sentiment/'\n",
    "options = { 'text' : tweet }\n",
    "response = requests.post(url, data = options)\n",
    "sentiment = response.json()\n",
    "sentiment"
   ]
  },
  {
   "cell_type": "markdown",
   "metadata": {},
   "source": [
    "### Now You Try It!\n",
    "\n",
    "Use the above example to write a program which will input any text and print the sentiment using this API!"
   ]
  },
  {
   "cell_type": "code",
   "execution_count": 21,
   "metadata": {},
   "outputs": [
    {
     "name": "stdout",
     "output_type": "stream",
     "text": [
      "Enter something, I'll tell you your mood!: You suck\n",
      "That's neg !!!\n"
     ]
    }
   ],
   "source": [
    "# todo write code here\n",
    "text = input(\"Enter something, I'll tell you your mood!: \")\n",
    "url = 'http://text-processing.com/api/sentiment/'\n",
    "options = { 'text' : tweet }\n",
    "response = requests.post(url, data = options)\n",
    "sentiment = response.json()\n",
    "print(f\"That's {sentiment['label']} !!!\")"
   ]
  },
  {
   "cell_type": "markdown",
   "metadata": {},
   "source": [
    "\n",
    "## Part 3: Proper Error Handling (In 3 Simple Rules)\n",
    "\n",
    "When you write code that depends on other people's code from around the Internet, there's a lot that can go wrong. Therefore we perscribe the following advice:\n",
    "\n",
    "```\n",
    "Assume anything that CAN go wrong WILL go wrong\n",
    "```\n"
   ]
  },
  {
   "cell_type": "markdown",
   "metadata": {},
   "source": [
    "### Rule 1: Don't assume the internet 'always works'\n",
    "\n",
    "The first rule of programming over a network is to NEVER assume the network is available. You need to assume the worst. No WiFi, user types in a bad url, the remote website is down, etc. \n",
    "\n",
    "We handle this in the `requests` module by catching the `requests.exceptions.RequestException` Here's an example:"
   ]
  },
  {
   "cell_type": "code",
   "execution_count": 22,
   "metadata": {},
   "outputs": [],
   "source": [
    "url = \"http://this is not a website\"\n",
    "try:\n",
    "\n",
    "    response = requests.get(url)  # throws an exception when it cannot connect\n",
    "\n",
    "# internet is broken\n",
    "except requests.exceptions.RequestException as e:\n",
    "    print(\"ERROR: Cannot connect to \", url)\n",
    "    print(\"DETAILS:\", e)"
   ]
  },
  {
   "cell_type": "markdown",
   "metadata": {},
   "source": [
    "### Rule 2: Don't assume the response you get back is valid\n",
    "\n",
    "Assuming the internet is not broken (Rule 1) You should now check for HTTP response 200 which means the url responded successfully.  Other responses like 404 or 501 indicate an error occured and that means you should not keep processing the response.\n",
    "\n",
    "Here's one way to do it:"
   ]
  },
  {
   "cell_type": "code",
   "execution_count": 23,
   "metadata": {},
   "outputs": [
    {
     "name": "stdout",
     "output_type": "stream",
     "text": [
      "There was an Error requesting: http://www.syr.edu/mikeisawesum  HTTP Response Code:  404\n"
     ]
    }
   ],
   "source": [
    "url = 'http://www.syr.edu/mikeisawesum'  # this should 404\n",
    "try:\n",
    "    \n",
    "    response = requests.get(url)\n",
    "    \n",
    "    if response.ok:  # same as response.status_code == 200\n",
    "        data = response.text\n",
    "    else: # Some other non 200 response code\n",
    "        print(\"There was an Error requesting:\", url, \" HTTP Response Code: \", response.status_code)\n",
    "\n",
    "# internet is broken\n",
    "except requests.exceptions.RequestException as e: \n",
    "    print(\"ERROR: Cannot connect to \", url)\n",
    "    print(\"DETAILS:\", e)\n"
   ]
  },
  {
   "cell_type": "markdown",
   "metadata": {},
   "source": [
    "### Rule 2a: Use exceptions instead of if else in this case\n",
    "\n",
    "Personally I don't like to use `if ... else` to handle an error. Instead, I prefer to instruct `requests` to throw an exception of `requests.exceptions.HTTPError` whenever the response is not ok. This makes the code you write a little cleaner.\n",
    "\n",
    "Errors are rare occurences, and so I  don't like error handling cluttering up my code. \n"
   ]
  },
  {
   "cell_type": "code",
   "execution_count": 24,
   "metadata": {},
   "outputs": [
    {
     "name": "stdout",
     "output_type": "stream",
     "text": [
      "ERROR: Response from  http://www.syr.edu/mikeisawesum was not ok.\n",
      "DETAILS: 404 Client Error: Not Found for url: https://www.syracuse.edu/mikeisawesum\n"
     ]
    }
   ],
   "source": [
    "url = 'http://www.syr.edu/mikeisawesum'  # this should 404\n",
    "try:\n",
    "    \n",
    "    response = requests.get(url)  # throws an exception when it cannot connect\n",
    "    response.raise_for_status()   # throws an exception when not 'ok'\n",
    "    data = response.text\n",
    "\n",
    "# response not ok\n",
    "except requests.exceptions.HTTPError as e:\n",
    "    print(\"ERROR: Response from \", url, 'was not ok.')\n",
    "    print(\"DETAILS:\", e)\n",
    "        \n",
    "# internet is broken\n",
    "except requests.exceptions.RequestException as e: \n",
    "    print(\"ERROR: Cannot connect to \", url)\n",
    "    print(\"DETAILS:\", e)\n"
   ]
  },
  {
   "cell_type": "markdown",
   "metadata": {},
   "source": [
    "###  Rule 3: Don't assume the data you get back is the data you expect.\n",
    "\n",
    "And finally, do not assume the data arriving the the `response` is the data you expected. Specifically when you try and decode the `JSON` don't assume that will go smoothly. Catch the `json.decoder.JSONDecodeError`."
   ]
  },
  {
   "cell_type": "code",
   "execution_count": 25,
   "metadata": {},
   "outputs": [
    {
     "name": "stdout",
     "output_type": "stream",
     "text": [
      "ERROR: Cannot decode the response into json\n",
      "DETAILS Expecting value: line 1 column 1 (char 0)\n"
     ]
    }
   ],
   "source": [
    "url = 'http://www.syr.edu' # this is HTML, not JSON\n",
    "try:\n",
    "\n",
    "    response = requests.get(url)  # throws an exception when it cannot connect\n",
    "    response.raise_for_status()   # throws an exception when not 'ok'\n",
    "    data = response.json()        # throws an exception when cannot decode json\n",
    "    \n",
    "# cannot decode json\n",
    "except json.decoder.JSONDecodeError as e: \n",
    "    print(\"ERROR: Cannot decode the response into json\")\n",
    "    print(\"DETAILS\", e)\n",
    "\n",
    "# response not ok\n",
    "except requests.exceptions.HTTPError as e:\n",
    "    print(\"ERROR: Response from \", url, 'was not ok.')\n",
    "    print(\"DETAILS:\", e)\n",
    "        \n",
    "# internet is broken\n",
    "except requests.exceptions.RequestException as e: \n",
    "    print(\"ERROR: Cannot connect to \", url)\n",
    "    print(\"DETAILS:\", e)"
   ]
  },
  {
   "cell_type": "markdown",
   "metadata": {},
   "source": [
    "### Now You try it!\n",
    "\n",
    "Using the last example above, write a program to input a location, call the `get_coordinates()` function, then print the coordindates. Make sure to handle all three types of exceptions!!!\n"
   ]
  },
  {
   "cell_type": "code",
   "execution_count": 38,
   "metadata": {},
   "outputs": [
    {
     "name": "stdout",
     "output_type": "stream",
     "text": [
      "Enter a location: fjkhdshagflkjsdhf\n",
      "Seaching for fjkhdshagflkjsdhf returned no results.\n"
     ]
    }
   ],
   "source": [
    "# todo write code here to input a location, look up coordinates, and print\n",
    "# it should handle errors!!!\n",
    "try:\n",
    "    location = input(\"Enter a location: \")\n",
    "    coords = get_coordinates(location)\n",
    "    print(f\"Coordinates for {location} are {coords}\")\n",
    "except IndexError:\n",
    "    print(f\"Seaching for {location} returned no results.\")\n",
    "\n",
    "\n"
   ]
  },
  {
   "cell_type": "markdown",
   "metadata": {},
   "source": [
    "## Metacognition\n",
    "\n",
    "Please answer the following questions. This should be a personal narrative, in your own voice. Answer the questions by double clicking on the question and placing your answer next to the Answer: prompt.\n",
    "\n",
    "\n",
    "1. Record any questions you have about this lab that you would like to ask in recitation. It is expected you will have questions if you did not complete the code sections correctly.  Learning how to articulate what you do not understand is an important skill of critical thinking. \n",
    "\n",
    "Answer: \n",
    "\n",
    "2. What was the most difficult aspect of completing this lab? Least difficult?  \n",
    "\n",
    "Answer: \n",
    "\n",
    "3. What aspects of this lab do you find most valuable? Least valuable?\n",
    "\n",
    "Answer: \n",
    "\n",
    "4. Rate your comfort level with this week's material so far.   \n",
    "\n",
    "1 ==> I can do this on my own and explain how to do it.   \n",
    "2 ==> I can do this on my own without any help.   \n",
    "3 ==> I can do this with help or guidance from others. If you choose this level please list those who helped you.   \n",
    "4 ==> I don't understand this at all yet and need extra help. If you choose this please try to articulate that which you do not understand.   \n",
    "\n",
    "Answer: \n",
    "\n"
   ]
  },
  {
   "cell_type": "code",
   "execution_count": 2,
   "metadata": {},
   "outputs": [
    {
     "data": {
      "application/javascript": [
       "IPython.notebook.save_checkpoint();"
      ],
      "text/plain": [
       "<IPython.core.display.Javascript object>"
      ]
     },
     "metadata": {},
     "output_type": "display_data"
    },
    {
     "data": {
      "application/javascript": [
       "IPython.notebook.save_notebook();"
      ],
      "text/plain": [
       "<IPython.core.display.Javascript object>"
      ]
     },
     "metadata": {},
     "output_type": "display_data"
    },
    {
     "name": "stdout",
     "output_type": "stream",
     "text": [
      "Saving notebook... Saved 'CCL-Web-API-Foundations-HTTP.ipynb'.\n",
      "Submit... 100% complete\n",
      "Submission successful for user: mafudge@g.syr.edu\n",
      "URL: https://okpy.org/syr/ist256/sp20/l10/submissions/274ZjW\n",
      "\n"
     ]
    }
   ],
   "source": [
    "# to save and turn in your work, execute this cell. Your latest submission will be graded. \n",
    "ok.submit()"
   ]
  },
  {
   "cell_type": "code",
   "execution_count": null,
   "metadata": {},
   "outputs": [],
   "source": []
  }
 ],
 "metadata": {
  "anaconda-cloud": {},
  "kernelspec": {
   "display_name": "Python 3",
   "language": "python",
   "name": "python3"
  },
  "language_info": {
   "codemirror_mode": {
    "name": "ipython",
    "version": 3
   },
   "file_extension": ".py",
   "mimetype": "text/x-python",
   "name": "python",
   "nbconvert_exporter": "python",
   "pygments_lexer": "ipython3",
   "version": "3.7.6"
  },
  "toc": {
   "base_numbering": 1,
   "nav_menu": {},
   "number_sections": false,
   "sideBar": false,
   "skip_h1_title": false,
   "title_cell": "Table of Contents",
   "title_sidebar": "Contents",
   "toc_cell": false,
   "toc_position": {},
   "toc_section_display": false,
   "toc_window_display": false
  }
 },
 "nbformat": 4,
 "nbformat_minor": 1
}
